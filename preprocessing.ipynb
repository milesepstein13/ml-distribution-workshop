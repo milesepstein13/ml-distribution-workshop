{
 "cells": [
  {
   "cell_type": "code",
   "execution_count": null,
   "id": "05eaae96",
   "metadata": {},
   "outputs": [],
   "source": [
    "import numpy as np\n",
    "import xarray as xr\n",
    "import pandas as pd\n",
    "import matplotlib.pyplot as plt\n",
    "pph = xr.open_dataset('data/labelled_pph.nc')\n",
    "slgt_categories = ['SLGT', 'ENH', 'MDT', 'HIGH']\n",
    "\n",
    "mdt_categories = ['MDT', 'HIGH']\n",
    "\n",
    "missing_dates = [\n",
    "    '200204250000', '200208300000', '200304150000', '200304160000',\n",
    "    '200306250000', '200307270000', '200307280000', '200312280000',\n",
    "    '200404140000', '200408090000', '200905280000', '201105210000',\n",
    "    '202005240000', '200510240000'\n",
    "    ]\n",
    "\n",
    "mdt_dates_of_interest = pph['time'].where(pph['MAX_CAT'].isin(mdt_categories), drop=True)\n",
    "slgt_dates_of_interest = pph['time'].where(pph['MAX_CAT'].isin(slgt_categories), drop=True)\n",
    "all_dates_of_interest = pph['time']\n",
    "\n",
    "mdt_dates_of_interest = mdt_dates_of_interest.where(mdt_dates_of_interest > '200203310000', drop=True)\n",
    "mdt_dates_of_interest = mdt_dates_of_interest.where(~mdt_dates_of_interest.isin(missing_dates), drop=True)\n",
    "\n",
    "slgt_dates_of_interest = slgt_dates_of_interest.where(slgt_dates_of_interest > '200203310000', drop=True)\n",
    "slgt_dates_of_interest = slgt_dates_of_interest.where(~slgt_dates_of_interest.isin(missing_dates), drop=True)\n",
    "\n",
    "all_dates_of_interest = all_dates_of_interest.where(all_dates_of_interest > '200203310000', drop=True)\n",
    "all_dates_of_interest = all_dates_of_interest.where(~all_dates_of_interest.isin(missing_dates), drop=True)\n",
    "\n",
    "mdt_reports = pph['REPORT_NUM'].sel(time = mdt_dates_of_interest)\n",
    "slgt_reports = pph['REPORT_NUM'].sel(time = slgt_dates_of_interest)\n",
    "all_reports = pph['REPORT_NUM'].sel(time = all_dates_of_interest)\n",
    "\n",
    "# convert time to datetime\n",
    "mdt_reports['time'] = pd.to_datetime(mdt_reports['time'].values, format='%Y%m%d%H%M')\n",
    "slgt_reports['time'] = pd.to_datetime(slgt_reports['time'].values, format='%Y%m%d%H%M')\n",
    "all_reports['time'] = pd.to_datetime(all_reports['time'].values, format='%Y%m%d%H%M')\n",
    "\n",
    "mdt_reports_train = mdt_reports.sel(time = mdt_reports['time'].dt.year < 2020)\n",
    "mdt_reports_test = mdt_reports.sel(time = mdt_reports['time'].dt.year >= 2020)\n",
    "\n",
    "slgt_reports_train = slgt_reports.sel(time = slgt_reports['time'].dt.year < 2020)\n",
    "slgt_reports_test = slgt_reports.sel(time = slgt_reports['time'].dt.year >= 2020)\n",
    "\n",
    "all_reports_train = all_reports.sel(time = all_reports['time'].dt.year < 2020)\n",
    "all_reports_test = all_reports.sel(time = all_reports['time'].dt.year >= 2020)\n",
    "\n",
    "mdt_reports_train.to_netcdf('data/mdt_reports_train.nc')\n",
    "mdt_reports_test.to_netcdf('data/mdt_reports_test.nc')\n",
    "slgt_reports_train.to_netcdf('data/slgt_reports_train.nc')\n",
    "slgt_reports_test.to_netcdf('data/slgt_reports_test.nc')\n",
    "all_reports_train.to_netcdf('data/all_reports_train.nc')\n",
    "all_reports_test.to_netcdf('data/all_reports_test.nc')"
   ]
  }
 ],
 "metadata": {
  "kernelspec": {
   "display_name": "Python 3",
   "language": "python",
   "name": "python3"
  },
  "language_info": {
   "codemirror_mode": {
    "name": "ipython",
    "version": 3
   },
   "file_extension": ".py",
   "mimetype": "text/x-python",
   "name": "python",
   "nbconvert_exporter": "python",
   "pygments_lexer": "ipython3",
   "version": "3.10.11"
  }
 },
 "nbformat": 4,
 "nbformat_minor": 5
}
